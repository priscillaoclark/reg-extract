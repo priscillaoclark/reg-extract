{
 "cells": [
  {
   "cell_type": "markdown",
   "metadata": {},
   "source": [
    "#### Load attachment data from mongodb"
   ]
  },
  {
   "cell_type": "code",
   "execution_count": 14,
   "metadata": {},
   "outputs": [
    {
     "name": "stdout",
     "output_type": "stream",
     "text": [
      "Successfully connected to MongoDB!\n"
     ]
    }
   ],
   "source": [
    "from _05_mongodb_attachments import get_mongodb_attachments\n",
    "import pandas as pd\n",
    "\n",
    "# Load to dataframe\n",
    "mongodb = get_mongodb_attachments()"
   ]
  },
  {
   "cell_type": "markdown",
   "metadata": {},
   "source": [
    "#### Look for documents where summary was not found in the initial scraping process."
   ]
  },
  {
   "cell_type": "code",
   "execution_count": 21,
   "metadata": {},
   "outputs": [
    {
     "name": "stdout",
     "output_type": "stream",
     "text": [
      "558\n",
      "57\n"
     ]
    }
   ],
   "source": [
    "# Filter for documents where doc_summary equals Not Found\n",
    "missing = mongodb[mongodb['doc_summary'] == 'Not found']\n",
    "print(missing.shape[0])\n",
    "#print(missing.columns)\n",
    "\n",
    "# Filter for htm files\n",
    "missing = missing[missing['extension'] == '.htm']\n",
    "# Sort by the length of the file\n",
    "missing = missing.sort_values(by='num_words', ascending=False)\n",
    "# Add \"../\" to the filename\n",
    "missing['filename'] = '../' + missing['filename']\n",
    "\n",
    "search_term = 'summary'\n",
    "doc_ids = []\n",
    "\n",
    "for index, row in missing.iterrows():\n",
    "        with open(row['filename'], 'r') as f:\n",
    "            contents = f.read()\n",
    "            if search_term in contents:\n",
    "                if row['doc_id'] not in doc_ids:\n",
    "                    doc_ids.append(row['doc_id'])\n",
    "            \n",
    "# Print the length of the lists\n",
    "print(len(doc_ids))"
   ]
  },
  {
   "cell_type": "code",
   "execution_count": 2,
   "metadata": {},
   "outputs": [
    {
     "ename": "ModuleNotFoundError",
     "evalue": "No module named 'nltk'",
     "output_type": "error",
     "traceback": [
      "\u001b[0;31m---------------------------------------------------------------------------\u001b[0m",
      "\u001b[0;31mModuleNotFoundError\u001b[0m                       Traceback (most recent call last)",
      "Cell \u001b[0;32mIn[2], line 1\u001b[0m\n\u001b[0;32m----> 1\u001b[0m \u001b[38;5;28;01mfrom\u001b[39;00m \u001b[38;5;21;01mnltk\u001b[39;00m\u001b[38;5;21;01m.\u001b[39;00m\u001b[38;5;21;01mtokenize\u001b[39;00m \u001b[38;5;28;01mimport\u001b[39;00m word_tokenize\n\u001b[1;32m      2\u001b[0m \u001b[38;5;28;01mimport\u001b[39;00m \u001b[38;5;21;01mnltk\u001b[39;00m\n\u001b[1;32m      4\u001b[0m \u001b[38;5;66;03m# Ensure you have the NLTK data downloaded\u001b[39;00m\n",
      "\u001b[0;31mModuleNotFoundError\u001b[0m: No module named 'nltk'"
     ]
    }
   ],
   "source": [
    "from nltk.tokenize import word_tokenize\n",
    "import nltk\n",
    "\n",
    "# Ensure you have the NLTK data downloaded\n",
    "nltk.download('punkt')\n",
    "\n",
    "# List to store the tokenized content\n",
    "tokenized_contents = []\n",
    "\n",
    "# Iterate through the 'missing' dataframe\n",
    "for index, row in missing.iterrows():\n",
    "    with open(row['filename'], 'r') as f:\n",
    "        contents = f.read(10000)  # Read the first 10,000 characters\n",
    "        tokens = word_tokenize(contents)  # Tokenize the content\n",
    "        tokenized_contents.append(tokens)\n",
    "\n",
    "# Print the first tokenized content as an example\n",
    "print(tokenized_contents[0])\n"
   ]
  }
 ],
 "metadata": {
  "kernelspec": {
   "display_name": "vreg",
   "language": "python",
   "name": "python3"
  },
  "language_info": {
   "codemirror_mode": {
    "name": "ipython",
    "version": 3
   },
   "file_extension": ".py",
   "mimetype": "text/x-python",
   "name": "python",
   "nbconvert_exporter": "python",
   "pygments_lexer": "ipython3",
   "version": "3.10.11"
  }
 },
 "nbformat": 4,
 "nbformat_minor": 2
}
